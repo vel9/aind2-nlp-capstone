{
 "cells": [
  {
   "cell_type": "markdown",
   "metadata": {
    "collapsed": true,
    "deletable": true,
    "editable": true
   },
   "source": [
    "# Artificial Intelligence Nanodegree\n",
    "## Machine Translation Project\n",
    "In this notebook, sections that end with **'(IMPLEMENTATION)'** in the header indicate that the following blocks of code will require additional functionality which you must provide. Please be sure to read the instructions carefully!\n",
    "\n",
    "## Introduction\n",
    "In this notebook, you will build a deep neural network that functions as part of an end-to-end machine translation pipeline. Your completed pipeline will accept English text as input and return the French translation.\n",
    "\n",
    "- **Preprocess** - You'll convert text to sequence of integers.\n",
    "- **Models** Create models which accepts a sequence of integers as input and returns a probability distribution over possible translations. After learning about the basic types of neural networks that are often used for machine translation, you will engage in your own investigations, to design your own model!\n",
    "- **Prediction** Run the model on English text.\n",
    "\n",
    "## Dataset\n",
    "We begin by investigating the dataset that will be used to train and evaluate your pipeline.  The most common datasets used for machine translation are from [WMT](http://www.statmt.org/).  However, that will take a long time to train a neural network on.  We'll be using a dataset we created for this project that contains a small vocabulary.  You'll be able to train your model in a reasonable time with this dataset.\n",
    "### Load Data\n",
    "The data is located in `data/small_vocab_en` and `data/small_vocab_fr`. The `small_vocab_en` file contains English sentences with their French translations in the `small_vocab_fr` file. Load the English and French data from these files from running the cell below."
   ]
  },
  {
   "cell_type": "code",
   "execution_count": 1,
   "metadata": {
    "collapsed": false,
    "deletable": true,
    "editable": true
   },
   "outputs": [
    {
     "name": "stdout",
     "output_type": "stream",
     "text": [
      "Dataset Loaded\n"
     ]
    }
   ],
   "source": [
    "import helper\n",
    "\n",
    "\n",
    "# Load English data\n",
    "english_sentences = helper.load_data('data/small_vocab_en')\n",
    "# Load French data\n",
    "french_sentences = helper.load_data('data/small_vocab_fr')\n",
    "\n",
    "print('Dataset Loaded')"
   ]
  },
  {
   "cell_type": "markdown",
   "metadata": {
    "deletable": true,
    "editable": true
   },
   "source": [
    "### Files\n",
    "Each line in `small_vocab_en` contains an English sentence with the respective translation in each line of `small_vocab_fr`.  View the first two lines from each file."
   ]
  },
  {
   "cell_type": "code",
   "execution_count": 2,
   "metadata": {
    "collapsed": false,
    "deletable": true,
    "editable": true
   },
   "outputs": [
    {
     "name": "stdout",
     "output_type": "stream",
     "text": [
      "small_vocab_en Line 1:  new jersey is sometimes quiet during autumn , and it is snowy in april .\n",
      "small_vocab_fr Line 1:  new jersey est parfois calme pendant l' automne , et il est neigeux en avril .\n",
      "small_vocab_en Line 2:  the united states is usually chilly during july , and it is usually freezing in november .\n",
      "small_vocab_fr Line 2:  les états-unis est généralement froid en juillet , et il gèle habituellement en novembre .\n"
     ]
    }
   ],
   "source": [
    "for sample_i in range(2):\n",
    "    print('small_vocab_en Line {}:  {}'.format(sample_i + 1, english_sentences[sample_i]))\n",
    "    print('small_vocab_fr Line {}:  {}'.format(sample_i + 1, french_sentences[sample_i]))"
   ]
  },
  {
   "cell_type": "markdown",
   "metadata": {
    "deletable": true,
    "editable": true
   },
   "source": [
    "From looking at the sentences, you can see they have been preprocessed already.  The puncuations have been delimited using spaces. All the text have been converted to lowercase.  This should save you some time, but the text requires more preprocessing.\n",
    "### Vocabulary\n",
    "The complexity of the problem is determined by the complexity of the vocabulary.  A more complex vocabulary is a more complex problem.  Let's look at the complexity of the dataset we'll be working with."
   ]
  },
  {
   "cell_type": "code",
   "execution_count": 3,
   "metadata": {
    "collapsed": false,
    "deletable": true,
    "editable": true
   },
   "outputs": [
    {
     "name": "stdout",
     "output_type": "stream",
     "text": [
      "1823250 English words.\n",
      "227 unique English words.\n",
      "10 Most common words in the English dataset:\n",
      "\"is\" \",\" \".\" \"in\" \"it\" \"during\" \"the\" \"but\" \"and\" \"sometimes\"\n",
      "\n",
      "1961295 French words.\n",
      "355 unique French words.\n",
      "10 Most common words in the French dataset:\n",
      "\"est\" \".\" \",\" \"en\" \"il\" \"les\" \"mais\" \"et\" \"la\" \"parfois\"\n"
     ]
    }
   ],
   "source": [
    "import collections\n",
    "\n",
    "\n",
    "english_words_counter = collections.Counter([word for sentence in english_sentences for word in sentence.split()])\n",
    "french_words_counter = collections.Counter([word for sentence in french_sentences for word in sentence.split()])\n",
    "\n",
    "print('{} English words.'.format(len([word for sentence in english_sentences for word in sentence.split()])))\n",
    "print('{} unique English words.'.format(len(english_words_counter)))\n",
    "print('10 Most common words in the English dataset:')\n",
    "print('\"' + '\" \"'.join(list(zip(*english_words_counter.most_common(10)))[0]) + '\"')\n",
    "print()\n",
    "print('{} French words.'.format(len([word for sentence in french_sentences for word in sentence.split()])))\n",
    "print('{} unique French words.'.format(len(french_words_counter)))\n",
    "print('10 Most common words in the French dataset:')\n",
    "print('\"' + '\" \"'.join(list(zip(*french_words_counter.most_common(10)))[0]) + '\"')"
   ]
  },
  {
   "cell_type": "markdown",
   "metadata": {
    "deletable": true,
    "editable": true
   },
   "source": [
    "For comparison, _Alice's Adventures in Wonderland_ contains 2,766 unique words of a total of 15,500 words.\n",
    "## Preprocess\n",
    "For this project, you won't use text data as input to your model. Instead, you'll convert the text into sequences of integers using the following preprocess methods:\n",
    "1. Tokenize the words into ids\n",
    "2. Add padding to make all the sequences the same length.\n",
    "\n",
    "Time to start preprocessing the data...\n",
    "### Tokenize (IMPLEMENTATION)\n",
    "For a neural network to predict on text data, it first has to be turned into data it can understand. Text data like \"dog\" is a sequence of ASCII character encodings.  Since a neural network is a series of multiplication and addition operations, the input data needs to be number(s).\n",
    "\n",
    "We can turn each character into a number or each word into a number.  These are called character and word ids, respectively.  Character ids are used for character level models that generate text predictions for each character.  A word level model uses word ids that generate text predictions for each word.  Word level models tend to learn better, since they are lower in complexity, so we'll use those.\n",
    "\n",
    "Turn each sentence into a sequence of words ids using Keras's [`Tokenizer`](https://keras.io/preprocessing/text/#tokenizer) function. Use this function to tokenize `english_sentences` and `french_sentences` in the cell below.\n",
    "\n",
    "Running the cell will run `tokenize` on sample data and show output for debugging."
   ]
  },
  {
   "cell_type": "code",
   "execution_count": 4,
   "metadata": {
    "collapsed": false,
    "deletable": true,
    "editable": true
   },
   "outputs": [
    {
     "name": "stderr",
     "output_type": "stream",
     "text": [
      "Using TensorFlow backend.\n"
     ]
    },
    {
     "name": "stdout",
     "output_type": "stream",
     "text": [
      "{'study': 13, 'of': 14, 'quick': 2, 'short': 20, 'dog': 9, 'lazy': 8, 'sentence': 21, 'the': 1, 'brown': 4, 'my': 12, 'prize': 17, 'by': 10, 'this': 18, 'won': 16, 'is': 19, 'lexicography': 15, 'fox': 5, 'a': 3, 'jumps': 6, 'jove': 11, 'over': 7}\n",
      "\n",
      "Sequence 1 in x\n",
      "  Input:  The quick brown fox jumps over the lazy dog .\n",
      "  Output: [1, 2, 4, 5, 6, 7, 1, 8, 9]\n",
      "Sequence 2 in x\n",
      "  Input:  By Jove , my quick study of lexicography won a prize .\n",
      "  Output: [10, 11, 12, 2, 13, 14, 15, 16, 3, 17]\n",
      "Sequence 3 in x\n",
      "  Input:  This is a short sentence .\n",
      "  Output: [18, 19, 3, 20, 21]\n"
     ]
    }
   ],
   "source": [
    "import project_tests as tests\n",
    "from keras.preprocessing.text import Tokenizer\n",
    "\n",
    "\n",
    "def tokenize(x):\n",
    "    \"\"\"\n",
    "    Tokenize x\n",
    "    \n",
    "    ref: https://machinelearningmastery.com/prepare-text-data-deep-learning-keras/\n",
    "    \n",
    "    :param x: List of sentences/strings to be tokenized\n",
    "    :return: Tuple of (tokenized x data, tokenizer used to tokenize x)\n",
    "    \"\"\"\n",
    "    # fit the tokenizer on the documents\n",
    "    tokenizer = Tokenizer()\n",
    "    tokenizer.fit_on_texts(x)\n",
    "    sequences = tokenizer.texts_to_sequences(x)\n",
    "    return sequences, tokenizer\n",
    "\n",
    "tests.test_tokenize(tokenize)\n",
    "\n",
    "# Tokenize Example output\n",
    "text_sentences = [\n",
    "    'The quick brown fox jumps over the lazy dog .',\n",
    "    'By Jove , my quick study of lexicography won a prize .',\n",
    "    'This is a short sentence .']\n",
    "text_tokenized, text_tokenizer = tokenize(text_sentences)\n",
    "print(text_tokenizer.word_index)\n",
    "print()\n",
    "for sample_i, (sent, token_sent) in enumerate(zip(text_sentences, text_tokenized)):\n",
    "    print('Sequence {} in x'.format(sample_i + 1))\n",
    "    print('  Input:  {}'.format(sent))\n",
    "    print('  Output: {}'.format(token_sent))"
   ]
  },
  {
   "cell_type": "markdown",
   "metadata": {
    "deletable": true,
    "editable": true
   },
   "source": [
    "### Padding (IMPLEMENTATION)\n",
    "When batching the sequence of word ids together, each sequence needs to be the same length.  Since sentences are dynamic in length, we can add padding to the end of the sequences to make them the same length.\n",
    "\n",
    "Make sure all the English sequences have the same length and all the French sequences have the same length by adding padding to the **end** of each sequence using Keras's [`pad_sequences`](https://keras.io/preprocessing/sequence/#pad_sequences) function."
   ]
  },
  {
   "cell_type": "code",
   "execution_count": 15,
   "metadata": {
    "collapsed": false,
    "deletable": true,
    "editable": true
   },
   "outputs": [
    {
     "name": "stdout",
     "output_type": "stream",
     "text": [
      "[[0, 1, 2, 3], [0, 1, 2, 3, 4, 5], [0, 1, 2]]\n",
      "[[0, 1, 2, 3], [0, 1, 2, 3, 4, 5], [0, 1, 2]]\n",
      "[[1, 2, 4, 5, 6, 7, 1, 8, 9], [10, 11, 12, 2, 13, 14, 15, 16, 3, 17], [18, 19, 3, 20, 21]]\n",
      "Sequence 1 in x\n",
      "  Input:  [1 2 4 5 6 7 1 8 9]\n",
      "  Output: [1 2 4 5 6 7 1 8 9 0]\n",
      "Sequence 2 in x\n",
      "  Input:  [10 11 12  2 13 14 15 16  3 17]\n",
      "  Output: [10 11 12  2 13 14 15 16  3 17]\n",
      "Sequence 3 in x\n",
      "  Input:  [18 19  3 20 21]\n",
      "  Output: [18 19  3 20 21  0  0  0  0  0]\n"
     ]
    }
   ],
   "source": [
    "import numpy as np\n",
    "from keras.preprocessing.sequence import pad_sequences\n",
    "\n",
    "\n",
    "def pad(x, length=None):\n",
    "    \"\"\"\n",
    "    Pad input using the \"post\" option\n",
    "    e.g. pad([[1, 2, 3]], 5) returns [[1, 2, 3, 0, 0]]\n",
    "    \n",
    "    ref: https://keras.io/preprocessing/sequence/\n",
    "    \n",
    "    :param x: List of sequences.\n",
    "    :param length: Length to pad the sequence to.  If None, use length of longest sequence in x.\n",
    "    :return: Padded numpy array of sequences\n",
    "    \"\"\"\n",
    "    print(x)\n",
    "    return pad_sequences(x, maxlen=length, padding=\"post\")\n",
    "\n",
    "tests.test_pad(pad)\n",
    "\n",
    "# Pad Tokenized output\n",
    "test_pad = pad(text_tokenized)\n",
    "for sample_i, (token_sent, pad_sent) in enumerate(zip(text_tokenized, test_pad)):\n",
    "    print('Sequence {} in x'.format(sample_i + 1))\n",
    "    print('  Input:  {}'.format(np.array(token_sent)))\n",
    "    print('  Output: {}'.format(pad_sent))"
   ]
  },
  {
   "cell_type": "markdown",
   "metadata": {
    "deletable": true,
    "editable": true
   },
   "source": [
    "### Preprocess Pipeline\n",
    "Your focus for this project is to build neural network architecture, so we won't ask you to create a preprocess pipeline.  Instead, we've provided you with the implementation of the `preprocess` function."
   ]
  },
  {
   "cell_type": "code",
   "execution_count": 84,
   "metadata": {
    "collapsed": false,
    "deletable": true,
    "editable": true
   },
   "outputs": [
    {
     "name": "stdout",
     "output_type": "stream",
     "text": [
      "Data Preprocessed\n"
     ]
    }
   ],
   "source": [
    "def preprocess(x, y):\n",
    "    \"\"\"\n",
    "    Preprocess x and y\n",
    "    :param x: Feature List of sentences\n",
    "    :param y: Label List of sentences\n",
    "    :return: Tuple of (Preprocessed x, Preprocessed y, x tokenizer, y tokenizer)\n",
    "    \"\"\"\n",
    "    preprocess_x, x_tk = tokenize(x)\n",
    "    preprocess_y, y_tk = tokenize(y)\n",
    "\n",
    "    preprocess_x = pad(preprocess_x)\n",
    "    preprocess_y = pad(preprocess_y)\n",
    "\n",
    "    # Keras's sparse_categorical_crossentropy function requires the labels to be in 3 dimensions\n",
    "    preprocess_y = preprocess_y.reshape(*preprocess_y.shape, 1)\n",
    "\n",
    "    return preprocess_x, preprocess_y, x_tk, y_tk\n",
    "\n",
    "preproc_english_sentences, preproc_french_sentences, english_tokenizer, french_tokenizer =\\\n",
    "    preprocess(english_sentences, french_sentences)\n",
    "\n",
    "print('Data Preprocessed')\n"
   ]
  },
  {
   "cell_type": "code",
   "execution_count": 86,
   "metadata": {
    "collapsed": true,
    "deletable": true,
    "editable": true
   },
   "outputs": [],
   "source": [
    "import matplotlib.pyplot as plt\n",
    "\n",
    "def visualize_train(model_hist):\n",
    "    \"\"\"\n",
    "    Provides a visualization of the training process\n",
    "    \n",
    "    ref: https://machinelearningmastery.com/display-deep-learning-model-training-history-in-keras/\n",
    "    \"\"\"\n",
    "    # summarize history for accuracy\n",
    "    plt.plot(model_hist.history['acc'])\n",
    "    plt.plot(model_hist.history['val_acc'])\n",
    "    plt.title('model accuracy')\n",
    "    plt.ylabel('accuracy')\n",
    "    plt.xlabel('epoch')\n",
    "    plt.legend(['train', 'validation'], loc='upper left')\n",
    "    plt.show()\n",
    "    \n",
    "    # summarize history for loss\n",
    "    plt.plot(model_hist.history['loss'])\n",
    "    plt.title('model loss')\n",
    "    plt.ylabel('loss')\n",
    "    plt.xlabel('epoch')\n",
    "    plt.legend(['train'], loc='upper left')\n",
    "    plt.show()"
   ]
  },
  {
   "cell_type": "markdown",
   "metadata": {
    "deletable": true,
    "editable": true
   },
   "source": [
    "## Models\n",
    "In this section, you will experiment with various neural network architectures.\n",
    "You will begin by training four relatively simple architectures.\n",
    "- Model 1 is a simple RNN\n",
    "- Model 2 is a RNN with Embedding\n",
    "- Model 3 is a Bidirectional RNN\n",
    "- Model 4 is an optional Encoder-Decoder RNN\n",
    "\n",
    "After experimenting with the four simple architectures, you will construct a deeper architecture that is designed to outperform all four models.\n",
    "### Ids Back to Text\n",
    "The neural network will be translating the input to words ids, which isn't the final form we want.  We want the French translation.  The function `logits_to_text` will bridge the gab between the logits from the neural network to the French translation.  You'll be using this function to better understand the output of the neural network."
   ]
  },
  {
   "cell_type": "code",
   "execution_count": 87,
   "metadata": {
    "collapsed": false,
    "deletable": true,
    "editable": true
   },
   "outputs": [
    {
     "name": "stdout",
     "output_type": "stream",
     "text": [
      "`logits_to_text` function loaded.\n"
     ]
    }
   ],
   "source": [
    "def logits_to_text(logits, tokenizer):\n",
    "    \"\"\"\n",
    "    Turn logits from a neural network into text using the tokenizer\n",
    "    :param logits: Logits from a neural network\n",
    "    :param tokenizer: Keras Tokenizer fit on the labels\n",
    "    :return: String that represents the text of the logits\n",
    "    \"\"\"\n",
    "    index_to_words = {id: word for word, id in tokenizer.word_index.items()}\n",
    "    index_to_words[0] = '<PAD>'\n",
    "\n",
    "    return ' '.join([index_to_words[prediction] for prediction in np.argmax(logits, 1)])\n",
    "\n",
    "print('`logits_to_text` function loaded.')"
   ]
  },
  {
   "cell_type": "markdown",
   "metadata": {
    "deletable": true,
    "editable": true
   },
   "source": [
    "### Model 1: RNN (IMPLEMENTATION)\n",
    "![RNN](images/rnn.png)\n",
    "A basic RNN model is a good baseline for sequence data.  In this model, you'll build a RNN that translates English to French."
   ]
  },
  {
   "cell_type": "code",
   "execution_count": 88,
   "metadata": {
    "collapsed": true,
    "deletable": true,
    "editable": true
   },
   "outputs": [],
   "source": [
    "from keras.layers import GRU, Input, Dense, TimeDistributed\n",
    "from keras.models import Model\n",
    "from keras.layers import Activation\n",
    "from keras.optimizers import Adam\n",
    "from keras.losses import sparse_categorical_crossentropy\n",
    "\n",
    "\n",
    "def simple_model(input_shape, output_sequence_length, english_vocab_size, french_vocab_size):\n",
    "    \"\"\"\n",
    "    Build and train a basic RNN on x and y\n",
    "    \n",
    "    ref: https://blog.keras.io/a-ten-minute-introduction-to-sequence-to-sequence-learning-in-keras.html\n",
    "    ref: https://keras.io/layers/wrappers/\n",
    "    ref: https://machinelearningmastery.com/timedistributed-layer-for-long-short-term-memory-networks-in-python/\n",
    "    ref: https://keras.io/layers/embeddings/\n",
    "    \n",
    "    :param input_shape: Tuple of input shape\n",
    "    :param output_sequence_length: Length of output sequence\n",
    "    :param english_vocab_size: Number of unique English words in the dataset\n",
    "    :param french_vocab_size: Number of unique French words in the dataset\n",
    "    :return: Keras model built, but not trained\n",
    "    \"\"\"\n",
    "    \n",
    "    # hyperparams\n",
    "    rnn_dim = 64\n",
    "    learning_rate = 0.01\n",
    "    \n",
    "    # model\n",
    "    model_input = Input(shape=(input_shape[1], input_shape[2]))\n",
    "    rnn_layer = GRU(rnn_dim, return_sequences=True)\n",
    "    rnn_outputs = rnn_layer(model_input)\n",
    "    tddense_layer = TimeDistributed(Dense(french_vocab_size, activation='softmax'))\n",
    "    model_output = tddense_layer(rnn_outputs)\n",
    "    model = Model(model_input, model_output)\n",
    "    \n",
    "    model.compile(loss=sparse_categorical_crossentropy,\n",
    "                  optimizer=Adam(learning_rate),\n",
    "                  metrics=['accuracy'])\n",
    "    return model\n",
    "    \n",
    "tests.test_simple_model(simple_model)"
   ]
  },
  {
   "cell_type": "code",
   "execution_count": 93,
   "metadata": {
    "collapsed": false,
    "deletable": true,
    "editable": true
   },
   "outputs": [
    {
     "name": "stdout",
     "output_type": "stream",
     "text": [
      "_________________________________________________________________\n",
      "Layer (type)                 Output Shape              Param #   \n",
      "=================================================================\n",
      "input_70 (InputLayer)        (None, 21, 1)             0         \n",
      "_________________________________________________________________\n",
      "gru_167 (GRU)                (None, 21, 64)            12672     \n",
      "_________________________________________________________________\n",
      "time_distributed_59 (TimeDis (None, 21, 344)           22360     \n",
      "=================================================================\n",
      "Total params: 35,032\n",
      "Trainable params: 35,032\n",
      "Non-trainable params: 0\n",
      "_________________________________________________________________\n",
      "Train on 110288 samples, validate on 27573 samples\n",
      "Epoch 1/10\n",
      "110288/110288 [==============================] - 12s - loss: 2.3227 - acc: 0.5031 - val_loss: nan - val_acc: 0.5758\n",
      "Epoch 2/10\n",
      "110288/110288 [==============================] - 6s - loss: 1.5675 - acc: 0.5942 - val_loss: nan - val_acc: 0.6205\n",
      "Epoch 3/10\n",
      "110288/110288 [==============================] - 6s - loss: 1.3722 - acc: 0.6278 - val_loss: nan - val_acc: 0.6355\n",
      "Epoch 4/10\n",
      "110288/110288 [==============================] - 6s - loss: 1.2673 - acc: 0.6422 - val_loss: nan - val_acc: 0.6498\n",
      "Epoch 5/10\n",
      "110288/110288 [==============================] - 6s - loss: 1.2019 - acc: 0.6513 - val_loss: nan - val_acc: 0.6540\n",
      "Epoch 6/10\n",
      "110288/110288 [==============================] - 6s - loss: 1.1573 - acc: 0.6581 - val_loss: nan - val_acc: 0.6610\n",
      "Epoch 7/10\n",
      "110288/110288 [==============================] - 6s - loss: 1.1254 - acc: 0.6630 - val_loss: nan - val_acc: 0.6663\n",
      "Epoch 8/10\n",
      "110288/110288 [==============================] - 6s - loss: 1.1015 - acc: 0.6674 - val_loss: nan - val_acc: 0.6709\n",
      "Epoch 9/10\n",
      "110288/110288 [==============================] - 6s - loss: 1.0717 - acc: 0.6750 - val_loss: nan - val_acc: 0.6784\n",
      "Epoch 10/10\n",
      "110288/110288 [==============================] - 6s - loss: 1.0506 - acc: 0.6793 - val_loss: nan - val_acc: 0.6782\n"
     ]
    }
   ],
   "source": [
    "# Reshaping the input to work with a basic RNN\n",
    "tmp_x = pad(preproc_english_sentences, preproc_french_sentences.shape[1])\n",
    "tmp_x = tmp_x.reshape((-1, preproc_french_sentences.shape[-2], 1))\n",
    "\n",
    "# Train the neural network\n",
    "simple_rnn_model = simple_model(\n",
    "    tmp_x.shape,\n",
    "    preproc_french_sentences.shape[1],\n",
    "    len(english_tokenizer.word_index),\n",
    "    len(french_tokenizer.word_index))\n",
    "\n",
    "simple_rnn_model.summary()\n",
    "\n",
    "simple_hist = simple_rnn_model.fit(tmp_x, preproc_french_sentences, batch_size=1024, epochs=10, validation_split=0.2)"
   ]
  },
  {
   "cell_type": "code",
   "execution_count": 94,
   "metadata": {
    "collapsed": false,
    "deletable": true,
    "editable": true
   },
   "outputs": [
    {
     "data": {
      "image/png": "[encoded data removed]",
      "text/plain": [
       "<matplotlib.figure.Figure at 0x7f3cabb0efd0>"
      ]
     },
     "metadata": {},
     "output_type": "display_data"
    },
    {
     "data": {
      "image/png": "[encoded data removed]",
      "text/plain": [
       "<matplotlib.figure.Figure at 0x7f3bd8b47f98>"
      ]
     },
     "metadata": {},
     "output_type": "display_data"
    },
    {
     "name": "stdout",
     "output_type": "stream",
     "text": [
      "new jersey est parfois calme en l' de il est il est en en <PAD> <PAD> <PAD> <PAD> <PAD> <PAD> <PAD>\n"
     ]
    }
   ],
   "source": [
    "visualize_train(simple_hist)\n",
    "\n",
    "# Print prediction(s)\n",
    "print(logits_to_text(simple_rnn_model.predict(tmp_x[:1])[0], french_tokenizer))"
   ]
  },
  {
   "cell_type": "markdown",
   "metadata": {
    "deletable": true,
    "editable": true
   },
   "source": [
    "### Model 2: Embedding (IMPLEMENTATION)\n",
    "![RNN](images/embedding.png)\n",
    "You've turned the words into ids, but there's a better representation of a word.  This is called word embeddings.  An embedding is a vector representation of the word that is close to similar words in n-dimensional space, where the n represents the size of the embedding vectors.\n",
    "\n",
    "In this model, you'll create a RNN model using embedding."
   ]
  },
  {
   "cell_type": "code",
   "execution_count": 124,
   "metadata": {
    "collapsed": true,
    "deletable": true,
    "editable": true
   },
   "outputs": [],
   "source": [
    "from keras.layers.embeddings import Embedding\n",
    "\n",
    "def embed_model(input_shape, output_sequence_length, english_vocab_size, french_vocab_size):\n",
    "    \"\"\"\n",
    "    Build and train a RNN model using word embedding on x and y\n",
    "    \n",
    "    ref: https://keras.io/layers/embeddings/\n",
    "    \n",
    "    :param input_shape: Tuple of input shape\n",
    "    :param output_sequence_length: Length of output sequence\n",
    "    :param english_vocab_size: Number of unique English words in the dataset\n",
    "    :param french_vocab_size: Number of unique French words in the dataset\n",
    "    :return: Keras model built, but not trained\n",
    "    \"\"\"\n",
    "    # hyperparams: \n",
    "    embed_dim = 300\n",
    "    rnn_dim = 64\n",
    "    learning_rate = 0.01\n",
    "    \n",
    "    # model\n",
    "    model_input = Input(shape=(input_shape[1],))\n",
    "    embedding_layer = Embedding(english_vocab_size, embed_dim, input_length=input_shape[1])\n",
    "    # embedding layer adds the extra dimension that was present (as just a 1) in input shape of Model 1\n",
    "    rnn_input = embedding_layer(model_input)\n",
    "    rnn_layer = GRU(rnn_dim, return_sequences=True)\n",
    "    rnn_output = rnn_layer(rnn_input)\n",
    "    tddense_layer = TimeDistributed(Dense(french_vocab_size, activation='softmax'))\n",
    "    model_output = tddense_layer(rnn_output)\n",
    "    model = Model(model_input, model_output)\n",
    "    \n",
    "    model.compile(loss=sparse_categorical_crossentropy,\n",
    "                  optimizer=Adam(learning_rate),\n",
    "                  metrics=['accuracy'])\n",
    "    return model\n",
    "\n",
    "tests.test_embed_model(embed_model)"
   ]
  },
  {
   "cell_type": "code",
   "execution_count": 125,
   "metadata": {
    "collapsed": false,
    "deletable": true,
    "editable": true
   },
   "outputs": [
    {
     "name": "stdout",
     "output_type": "stream",
     "text": [
      "_________________________________________________________________\n",
      "Layer (type)                 Output Shape              Param #   \n",
      "=================================================================\n",
      "input_93 (InputLayer)        (None, 21)                0         \n",
      "_________________________________________________________________\n",
      "embedding_78 (Embedding)     (None, 21, 300)           59700     \n",
      "_________________________________________________________________\n",
      "gru_192 (GRU)                (None, 21, 64)            70080     \n",
      "_________________________________________________________________\n",
      "time_distributed_82 (TimeDis (None, 21, 344)           22360     \n",
      "=================================================================\n",
      "Total params: 152,140\n",
      "Trainable params: 152,140\n",
      "Non-trainable params: 0\n",
      "_________________________________________________________________\n",
      "Train on 110288 samples, validate on 27573 samples\n",
      "Epoch 1/10\n",
      "110288/110288 [==============================] - 14s - loss: 1.5791 - acc: 0.6535 - val_loss: nan - val_acc: 0.8092\n",
      "Epoch 2/10\n",
      "110288/110288 [==============================] - 7s - loss: 0.5149 - acc: 0.8419 - val_loss: nan - val_acc: 0.8681\n",
      "Epoch 3/10\n",
      "110288/110288 [==============================] - 7s - loss: 0.3836 - acc: 0.8816 - val_loss: nan - val_acc: 0.8941\n",
      "Epoch 4/10\n",
      "110288/110288 [==============================] - 7s - loss: 0.3277 - acc: 0.8987 - val_loss: nan - val_acc: 0.9028\n",
      "Epoch 5/10\n",
      "110288/110288 [==============================] - 7s - loss: 0.2995 - acc: 0.9061 - val_loss: nan - val_acc: 0.9069\n",
      "Epoch 6/10\n",
      "110288/110288 [==============================] - 7s - loss: 0.2844 - acc: 0.9101 - val_loss: nan - val_acc: 0.9125\n",
      "Epoch 7/10\n",
      "110288/110288 [==============================] - 7s - loss: 0.2724 - acc: 0.9135 - val_loss: nan - val_acc: 0.9115\n",
      "Epoch 8/10\n",
      "110288/110288 [==============================] - 7s - loss: 0.2652 - acc: 0.9155 - val_loss: nan - val_acc: 0.9167\n",
      "Epoch 9/10\n",
      "110288/110288 [==============================] - 7s - loss: 0.2562 - acc: 0.9177 - val_loss: nan - val_acc: 0.9176\n",
      "Epoch 10/10\n",
      "110288/110288 [==============================] - 7s - loss: 0.2491 - acc: 0.9200 - val_loss: nan - val_acc: 0.9165\n"
     ]
    }
   ],
   "source": [
    "tmp_x = pad(preproc_english_sentences, preproc_french_sentences.shape[1])\n",
    "tmp_x = tmp_x.reshape((-1, preproc_french_sentences.shape[-2]))\n",
    "\n",
    "# Train the neural network\n",
    "embed_rnn_model = embed_model(tmp_x.shape,\n",
    "                              preproc_french_sentences.shape[1],\n",
    "                              len(english_tokenizer.word_index),\n",
    "                              len(french_tokenizer.word_index))\n",
    "\n",
    "embed_rnn_model.summary()\n",
    "\n",
    "embed_hist = embed_rnn_model.fit(tmp_x, preproc_french_sentences, batch_size=1024, epochs=10, validation_split=0.2)"
   ]
  },
  {
   "cell_type": "code",
   "execution_count": 126,
   "metadata": {
    "collapsed": false,
    "deletable": true,
    "editable": true
   },
   "outputs": [
    {
     "data": {
      "image/png": "[encoded data removed]",
      "text/plain": [
       "<matplotlib.figure.Figure at 0x7f3bcedb3668>"
      ]
     },
     "metadata": {},
     "output_type": "display_data"
    },
    {
     "data": {
      "image/png": "[encoded data removed]",
      "text/plain": [
       "<matplotlib.figure.Figure at 0x7f3bc96b0e48>"
      ]
     },
     "metadata": {},
     "output_type": "display_data"
    },
    {
     "name": "stdout",
     "output_type": "stream",
     "text": [
      "new jersey est parfois calme en l' automne et il est il en avril avril <PAD> <PAD> <PAD> <PAD> <PAD> <PAD>\n"
     ]
    }
   ],
   "source": [
    "visualize_train(embed_hist)\n",
    "\n",
    "# Print prediction(s)\n",
    "print(logits_to_text(embed_rnn_model.predict(tmp_x[:1])[0], french_tokenizer))    "
   ]
  },
  {
   "cell_type": "markdown",
   "metadata": {
    "deletable": true,
    "editable": true
   },
   "source": [
    "### Model 3: Bidirectional RNNs (IMPLEMENTATION)\n",
    "![RNN](images/bidirectional.png)\n",
    "One restriction of a RNN is that it can't see the future input, only the past.  This is where bidirectional recurrent neural networks come in.  They are able to see the future data."
   ]
  },
  {
   "cell_type": "code",
   "execution_count": 127,
   "metadata": {
    "collapsed": true,
    "deletable": true,
    "editable": true
   },
   "outputs": [],
   "source": [
    "from keras.layers import Bidirectional\n",
    "\n",
    "def bd_model(input_shape, output_sequence_length, english_vocab_size, french_vocab_size):\n",
    "    \"\"\"\n",
    "    Build and train a bidirectional RNN model on x and y\n",
    "    \n",
    "    ref: https://keras.io/layers/wrappers/\n",
    "    ref: https://machinelearningmastery.com/develop-bidirectional-lstm-sequence-classification-python-keras/\n",
    "    \n",
    "    :param input_shape: Tuple of input shape\n",
    "    :param output_sequence_length: Length of output sequence\n",
    "    :param english_vocab_size: Number of unique English words in the dataset\n",
    "    :param french_vocab_size: Number of unique French words in the dataset\n",
    "    :return: Keras model built, but not trained\n",
    "    \"\"\"\n",
    "    # hyperparams\n",
    "    hidden_dim = 64\n",
    "    learning_rate = 0.01\n",
    "    \n",
    "    # model\n",
    "    model_input = Input(shape=(input_shape[1], input_shape[2]))\n",
    "    bidir_rnn_layer = Bidirectional(GRU(hidden_dim, return_sequences=True))\n",
    "    rnn_outputs = bidir_rnn_layer(model_input)\n",
    "    tdddense_layer = TimeDistributed(Dense(french_vocab_size, activation='softmax'))\n",
    "    model_output = tdddense_layer(rnn_outputs)\n",
    "    model = Model(model_input, model_output)\n",
    "    \n",
    "    model.compile(loss=sparse_categorical_crossentropy,\n",
    "                  optimizer=Adam(learning_rate),\n",
    "                  metrics=['accuracy'])\n",
    "    return model\n",
    "\n",
    "tests.test_bd_model(bd_model)"
   ]
  },
  {
   "cell_type": "code",
   "execution_count": 128,
   "metadata": {
    "collapsed": false,
    "deletable": true,
    "editable": true
   },
   "outputs": [
    {
     "name": "stdout",
     "output_type": "stream",
     "text": [
      "_________________________________________________________________\n",
      "Layer (type)                 Output Shape              Param #   \n",
      "=================================================================\n",
      "input_95 (InputLayer)        (None, 21, 1)             0         \n",
      "_________________________________________________________________\n",
      "bidirectional_111 (Bidirecti (None, 21, 128)           25344     \n",
      "_________________________________________________________________\n",
      "time_distributed_84 (TimeDis (None, 21, 344)           44376     \n",
      "=================================================================\n",
      "Total params: 69,720\n",
      "Trainable params: 69,720\n",
      "Non-trainable params: 0\n",
      "_________________________________________________________________\n",
      "Train on 110288 samples, validate on 27573 samples\n",
      "Epoch 1/10\n",
      "110288/110288 [==============================] - 17s - loss: 1.8603 - acc: 0.5754 - val_loss: nan - val_acc: 0.6404\n",
      "Epoch 2/10\n",
      "110288/110288 [==============================] - 10s - loss: 1.2329 - acc: 0.6561 - val_loss: nan - val_acc: 0.6685\n",
      "Epoch 3/10\n",
      "110288/110288 [==============================] - 10s - loss: 1.1120 - acc: 0.6754 - val_loss: nan - val_acc: 0.6803\n",
      "Epoch 4/10\n",
      "110288/110288 [==============================] - 10s - loss: 1.0448 - acc: 0.6841 - val_loss: nan - val_acc: 0.6872\n",
      "Epoch 5/10\n",
      "110288/110288 [==============================] - 10s - loss: 0.9974 - acc: 0.6915 - val_loss: nan - val_acc: 0.6935\n",
      "Epoch 6/10\n",
      "110288/110288 [==============================] - 10s - loss: 0.9632 - acc: 0.6979 - val_loss: nan - val_acc: 0.6992\n",
      "Epoch 7/10\n",
      "110288/110288 [==============================] - 10s - loss: 0.9383 - acc: 0.7040 - val_loss: nan - val_acc: 0.7064\n",
      "Epoch 8/10\n",
      "110288/110288 [==============================] - 10s - loss: 0.9165 - acc: 0.7096 - val_loss: nan - val_acc: 0.7107\n",
      "Epoch 9/10\n",
      "110288/110288 [==============================] - 10s - loss: 0.8969 - acc: 0.7141 - val_loss: nan - val_acc: 0.7143\n",
      "Epoch 10/10\n",
      "110288/110288 [==============================] - 10s - loss: 0.8772 - acc: 0.7192 - val_loss: nan - val_acc: 0.7225\n"
     ]
    }
   ],
   "source": [
    "tmp_x = pad(preproc_english_sentences, preproc_french_sentences.shape[1])\n",
    "tmp_x = tmp_x.reshape((-1, preproc_french_sentences.shape[-2], 1))\n",
    "\n",
    "# Train the neural network\n",
    "bd_rnn_model = bd_model(tmp_x.shape,\n",
    "                        preproc_french_sentences.shape[1],\n",
    "                        len(english_tokenizer.word_index),\n",
    "                        len(french_tokenizer.word_index))\n",
    "\n",
    "bd_rnn_model.summary()\n",
    "\n",
    "bd_hist = bd_rnn_model.fit(tmp_x, preproc_french_sentences, batch_size=1024, epochs=10, validation_split=0.2)"
   ]
  },
  {
   "cell_type": "code",
   "execution_count": 129,
   "metadata": {
    "collapsed": false,
    "deletable": true,
    "editable": true
   },
   "outputs": [
    {
     "data": {
      "image/png": "[encoded data removed]",
      "text/plain": [
       "<matplotlib.figure.Figure at 0x7f3bccb9ac18>"
      ]
     },
     "metadata": {},
     "output_type": "display_data"
    },
    {
     "data": {
      "image/png": "[encoded data removed]",
      "text/plain": [
       "<matplotlib.figure.Figure at 0x7f3bccbb9f28>"
      ]
     },
     "metadata": {},
     "output_type": "display_data"
    },
    {
     "name": "stdout",
     "output_type": "stream",
     "text": [
      "new jersey est parfois calme en l' et il est il en en <PAD> <PAD> <PAD> <PAD> <PAD> <PAD> <PAD> <PAD>\n"
     ]
    }
   ],
   "source": [
    "visualize_train(bd_hist)\n",
    "\n",
    "# Print prediction(s)\n",
    "print(logits_to_text(bd_rnn_model.predict(tmp_x[:1])[0], french_tokenizer))"
   ]
  },
  {
   "cell_type": "markdown",
   "metadata": {
    "deletable": true,
    "editable": true
   },
   "source": [
    "### Model 4: Encoder-Decoder (OPTIONAL)\n",
    "Time to look at encoder-decoder models.  This model is made up of an encoder and decoder. The encoder creates a matrix representation of the sentence.  The decoder takes this matrix as input and predicts the translation as output.\n",
    "\n",
    "Create an encoder-decoder model in the cell below."
   ]
  },
  {
   "cell_type": "code",
   "execution_count": 134,
   "metadata": {
    "collapsed": true,
    "deletable": true,
    "editable": true
   },
   "outputs": [],
   "source": [
    "from keras.layers import RepeatVector\n",
    "\n",
    "def encdec_model(input_shape, output_sequence_length, english_vocab_size, french_vocab_size):\n",
    "    \"\"\"\n",
    "    Build and train an encoder-decoder model on x and y\n",
    "    \n",
    "    ref: https://github.com/keras-team/keras/issues/5203\n",
    "    \n",
    "    :param input_shape: Tuple of input shape\n",
    "    :param output_sequence_length: Length of output sequence\n",
    "    :param english_vocab_size: Number of unique English words in the dataset\n",
    "    :param french_vocab_size: Number of unique French words in the dataset\n",
    "    :return: Keras model built, but not trained\n",
    "    \"\"\"\n",
    "    # hyperparams\n",
    "    rnn_dim = 64\n",
    "    learning_rate = 0.01\n",
    "    \n",
    "    # encoder\n",
    "    enc_model_input = Input(shape=(input_shape[1], input_shape[2]))\n",
    "    enc_rnn_layer = GRU(rnn_dim, return_state=True)\n",
    "    encoded, enc_state = enc_rnn_layer(enc_model_input)\n",
    "    enc_repeat = RepeatVector(output_sequence_length)\n",
    "    dec_input = enc_repeat(encoded)\n",
    "    \n",
    "    # decoder\n",
    "    dec_rnn_layer = GRU(rnn_dim, return_sequences=True)\n",
    "    dec_output = dec_rnn_layer(dec_input, initial_state=enc_state)\n",
    "    dec_tddense = TimeDistributed(Dense(french_vocab_size, activation='softmax'))\n",
    "    dec_output = dec_tddense(dec_output)\n",
    "    model = Model(enc_model_input, dec_output)\n",
    "    \n",
    "    model.compile(loss=sparse_categorical_crossentropy,\n",
    "                  optimizer=Adam(learning_rate),\n",
    "                  metrics=['accuracy'])\n",
    "    return model\n",
    "\n",
    "tests.test_encdec_model(encdec_model)"
   ]
  },
  {
   "cell_type": "code",
   "execution_count": 135,
   "metadata": {
    "collapsed": false,
    "deletable": true,
    "editable": true
   },
   "outputs": [
    {
     "name": "stdout",
     "output_type": "stream",
     "text": [
      "____________________________________________________________________________________________________\n",
      "Layer (type)                     Output Shape          Param #     Connected to                     \n",
      "====================================================================================================\n",
      "input_100 (InputLayer)           (None, 21, 1)         0                                            \n",
      "____________________________________________________________________________________________________\n",
      "gru_204 (GRU)                    [(None, 64), (None, 6 12672       input_100[0][0]                  \n",
      "____________________________________________________________________________________________________\n",
      "repeat_vector_64 (RepeatVector)  (None, 21, 64)        0           gru_204[0][0]                    \n",
      "____________________________________________________________________________________________________\n",
      "gru_205 (GRU)                    (None, 21, 64)        24768       repeat_vector_64[0][0]           \n",
      "                                                                   gru_204[0][1]                    \n",
      "____________________________________________________________________________________________________\n",
      "time_distributed_89 (TimeDistrib (None, 21, 344)       22360       gru_205[0][0]                    \n",
      "====================================================================================================\n",
      "Total params: 59,800\n",
      "Trainable params: 59,800\n",
      "Non-trainable params: 0\n",
      "____________________________________________________________________________________________________\n",
      "Train on 110288 samples, validate on 27573 samples\n",
      "Epoch 1/10\n",
      "110288/110288 [==============================] - 19s - loss: 2.5955 - acc: 0.4640 - val_loss: nan - val_acc: 0.5260\n",
      "Epoch 2/10\n",
      "110288/110288 [==============================] - 11s - loss: 1.7219 - acc: 0.5640 - val_loss: nan - val_acc: 0.5883\n",
      "Epoch 3/10\n",
      "110288/110288 [==============================] - 11s - loss: 1.4949 - acc: 0.5991 - val_loss: nan - val_acc: 0.6102\n",
      "Epoch 4/10\n",
      "110288/110288 [==============================] - 11s - loss: 1.3966 - acc: 0.6136 - val_loss: nan - val_acc: 0.6043\n",
      "Epoch 5/10\n",
      "110288/110288 [==============================] - 11s - loss: 1.3505 - acc: 0.6222 - val_loss: nan - val_acc: 0.6047\n",
      "Epoch 6/10\n",
      "110288/110288 [==============================] - 11s - loss: 1.3031 - acc: 0.6323 - val_loss: nan - val_acc: 0.6376\n",
      "Epoch 7/10\n",
      "110288/110288 [==============================] - 11s - loss: 1.2807 - acc: 0.6378 - val_loss: nan - val_acc: 0.6348\n",
      "Epoch 8/10\n",
      "110288/110288 [==============================] - 11s - loss: 1.2411 - acc: 0.6435 - val_loss: nan - val_acc: 0.6455\n",
      "Epoch 9/10\n",
      "110288/110288 [==============================] - 11s - loss: 1.2153 - acc: 0.6461 - val_loss: nan - val_acc: 0.6495\n",
      "Epoch 10/10\n",
      "110288/110288 [==============================] - 11s - loss: 1.2086 - acc: 0.6464 - val_loss: nan - val_acc: 0.6359\n"
     ]
    }
   ],
   "source": [
    "tmp_x = pad(preproc_english_sentences, preproc_french_sentences.shape[1])\n",
    "tmp_x = tmp_x.reshape((-1, preproc_french_sentences.shape[-2], 1))\n",
    "\n",
    "# Train the neural network\n",
    "encdec_rnn_model = encdec_model(tmp_x.shape,\n",
    "                                preproc_french_sentences.shape[1],\n",
    "                                len(english_tokenizer.word_index),\n",
    "                                len(french_tokenizer.word_index))\n",
    "\n",
    "encdec_rnn_model.summary()\n",
    "\n",
    "encdec_hist = encdec_rnn_model.fit(tmp_x, preproc_french_sentences, batch_size=1024, epochs=10, validation_split=0.2)"
   ]
  },
  {
   "cell_type": "code",
   "execution_count": 136,
   "metadata": {
    "collapsed": false,
    "deletable": true,
    "editable": true
   },
   "outputs": [
    {
     "data": {
      "image/png": "[encoded data removed]",
      "text/plain": [
       "<matplotlib.figure.Figure at 0x7f3bca9f5ef0>"
      ]
     },
     "metadata": {},
     "output_type": "display_data"
    },
    {
     "data": {
      "image/png": "[encoded data removed]",
      "text/plain": [
       "<matplotlib.figure.Figure at 0x7f3bc8d38940>"
      ]
     },
     "metadata": {},
     "output_type": "display_data"
    },
    {
     "name": "stdout",
     "output_type": "stream",
     "text": [
      "new jersey est parfois chaud en mois et il est est en en <PAD> <PAD> <PAD> <PAD> <PAD> <PAD> <PAD> <PAD>\n"
     ]
    }
   ],
   "source": [
    "visualize_train(encdec_hist)\n",
    "\n",
    "# Print prediction(s)\n",
    "print(logits_to_text(encdec_rnn_model.predict(tmp_x[:1])[0], french_tokenizer))"
   ]
  },
  {
   "cell_type": "markdown",
   "metadata": {
    "deletable": true,
    "editable": true
   },
   "source": [
    "### Model 5: Custom (IMPLEMENTATION)\n",
    "Use everything you learned from the previous models to create a model that incorporates embedding and a bidirectional rnn into one model."
   ]
  },
  {
   "cell_type": "code",
   "execution_count": 144,
   "metadata": {
    "collapsed": false,
    "deletable": true,
    "editable": true
   },
   "outputs": [
    {
     "name": "stdout",
     "output_type": "stream",
     "text": [
      "Final Model Loaded\n"
     ]
    }
   ],
   "source": [
    "from keras.layers import BatchNormalization, Dropout\n",
    "\n",
    "def model_final(input_shape, output_sequence_length, english_vocab_size, french_vocab_size):\n",
    "    \"\"\"\n",
    "    Build and train a model that incorporates embedding, encoder-decoder, and bidirectional RNN on x and y\n",
    "    \n",
    "    ref: https://keras.io/layers/normalization/\n",
    "    \n",
    "    :param input_shape: Tuple of input shape\n",
    "    :param output_sequence_length: Length of output sequence\n",
    "    :param english_vocab_size: Number of unique English words in the dataset\n",
    "    :param french_vocab_size: Number of unique French words in the dataset\n",
    "    :return: Keras model built, but not trained\n",
    "    \"\"\"\n",
    "    # hyperparams\n",
    "    embed_dim = 300\n",
    "    rnn_dim = 96\n",
    "    learning_rate = 0.01\n",
    "    \n",
    "    # encoder\n",
    "    enc_model_input = Input(shape=(input_shape[1],))\n",
    "    embedding_layer = Embedding(english_vocab_size, embed_dim, input_length=input_shape[1])\n",
    "    rnn_input = embedding_layer(enc_model_input)\n",
    "    enc_rnn_layer = Bidirectional(GRU(rnn_dim))\n",
    "    encoded = enc_rnn_layer(rnn_input)\n",
    "    bn_encoded = BatchNormalization()(encoded)\n",
    "    \n",
    "    # Prepare input for decoder\n",
    "    enc_repeat = RepeatVector(output_sequence_length)\n",
    "    dec_input = enc_repeat(bn_encoded)\n",
    "    # Provide Initial State for Decoder\n",
    "    # ref 1: http://nmt-keras.readthedocs.io/en/latest/tutorial.html\n",
    "    # ref 2: https://github.com/keras-team/keras/issues/5971\n",
    "    enc_state = Dense(rnn_dim, activation='tanh')(bn_encoded)\n",
    "    \n",
    "    # decoder\n",
    "    dec_rnn_layer_1 = GRU(rnn_dim, return_sequences=True)\n",
    "    dec_rnn_output_1 = dec_rnn_layer_1(dec_input, initial_state=enc_state)\n",
    "    dec_bn_rnn_output_1 = BatchNormalization()(dec_rnn_output_1)\n",
    "    \n",
    "    dec_rnn_layer_2 = Bidirectional(GRU(rnn_dim, return_sequences=True))\n",
    "    dec_rnn_output_2 = dec_rnn_layer_2(dec_rnn_output_1)\n",
    "    dec_bn_rnn_output_2 = BatchNormalization()(dec_rnn_output_2)\n",
    "    \n",
    "    dec_tddense = TimeDistributed(Dense(french_vocab_size, activation='softmax'))\n",
    "    dec_output = dec_tddense(dec_bn_rnn_output_2)\n",
    "    model = Model(enc_model_input, dec_output)\n",
    "    \n",
    "    model.compile(loss=sparse_categorical_crossentropy,\n",
    "                  optimizer=Adam(learning_rate),\n",
    "                  metrics=['accuracy'])\n",
    "    \n",
    "    return model\n",
    "\n",
    "tests.test_model_final(model_final)\n",
    "\n",
    "print('Final Model Loaded')"
   ]
  },
  {
   "cell_type": "markdown",
   "metadata": {
    "deletable": true,
    "editable": true
   },
   "source": [
    "## Prediction (IMPLEMENTATION)"
   ]
  },
  {
   "cell_type": "code",
   "execution_count": 145,
   "metadata": {
    "collapsed": false,
    "deletable": true,
    "editable": true,
    "scrolled": true
   },
   "outputs": [
    {
     "name": "stdout",
     "output_type": "stream",
     "text": [
      "____________________________________________________________________________________________________\n",
      "Layer (type)                     Output Shape          Param #     Connected to                     \n",
      "====================================================================================================\n",
      "input_109 (InputLayer)           (None, 15)            0                                            \n",
      "____________________________________________________________________________________________________\n",
      "embedding_88 (Embedding)         (None, 15, 300)       59700       input_109[0][0]                  \n",
      "____________________________________________________________________________________________________\n",
      "bidirectional_130 (Bidirectional (None, 192)           228672      embedding_88[0][0]               \n",
      "____________________________________________________________________________________________________\n",
      "batch_normalization_64 (BatchNor (None, 192)           768         bidirectional_130[0][0]          \n",
      "____________________________________________________________________________________________________\n",
      "repeat_vector_73 (RepeatVector)  (None, 21, 192)       0           batch_normalization_64[0][0]     \n",
      "____________________________________________________________________________________________________\n",
      "dense_157 (Dense)                (None, 96)            18528       batch_normalization_64[0][0]     \n",
      "____________________________________________________________________________________________________\n",
      "gru_231 (GRU)                    (None, 21, 96)        83232       repeat_vector_73[0][0]           \n",
      "                                                                   dense_157[0][0]                  \n",
      "____________________________________________________________________________________________________\n",
      "bidirectional_131 (Bidirectional (None, 21, 192)       111168      gru_231[0][0]                    \n",
      "____________________________________________________________________________________________________\n",
      "batch_normalization_66 (BatchNor (None, 21, 192)       768         bidirectional_131[0][0]          \n",
      "____________________________________________________________________________________________________\n",
      "time_distributed_98 (TimeDistrib (None, 21, 344)       66392       batch_normalization_66[0][0]     \n",
      "====================================================================================================\n",
      "Total params: 569,228\n",
      "Trainable params: 568,460\n",
      "Non-trainable params: 768\n",
      "____________________________________________________________________________________________________\n",
      "Train on 110288 samples, validate on 27573 samples\n",
      "Epoch 1/10\n",
      "110288/110288 [==============================] - 35s - loss: 1.6473 - acc: 0.6045 - val_loss: nan - val_acc: 0.6131\n",
      "Epoch 2/10\n",
      "110288/110288 [==============================] - 26s - loss: 0.6527 - acc: 0.8050 - val_loss: nan - val_acc: 0.8128\n",
      "Epoch 3/10\n",
      "110288/110288 [==============================] - 26s - loss: 0.3333 - acc: 0.9006 - val_loss: nan - val_acc: 0.8772\n",
      "Epoch 4/10\n",
      "110288/110288 [==============================] - 26s - loss: 0.2326 - acc: 0.9323 - val_loss: nan - val_acc: 0.9150\n",
      "Epoch 5/10\n",
      "110288/110288 [==============================] - 26s - loss: 0.1805 - acc: 0.9474 - val_loss: nan - val_acc: 0.9528\n",
      "Epoch 6/10\n",
      "110288/110288 [==============================] - 26s - loss: 0.1303 - acc: 0.9618 - val_loss: nan - val_acc: 0.9599\n",
      "Epoch 7/10\n",
      "110288/110288 [==============================] - 26s - loss: 0.1217 - acc: 0.9645 - val_loss: nan - val_acc: 0.9600\n",
      "Epoch 8/10\n",
      "110288/110288 [==============================] - 26s - loss: 0.1175 - acc: 0.9656 - val_loss: nan - val_acc: 0.9651\n",
      "Epoch 9/10\n",
      "110288/110288 [==============================] - 26s - loss: 0.1004 - acc: 0.9706 - val_loss: nan - val_acc: 0.9672\n",
      "Epoch 10/10\n",
      "110288/110288 [==============================] - 26s - loss: 0.0854 - acc: 0.9746 - val_loss: nan - val_acc: 0.9715\n"
     ]
    },
    {
     "data": {
      "image/png": "[encoded data removed]",
      "text/plain": [
       "<matplotlib.figure.Figure at 0x7f3bbd283e80>"
      ]
     },
     "metadata": {},
     "output_type": "display_data"
    },
    {
     "data": {
      "image/png": "[encoded data removed]",
      "text/plain": [
       "<matplotlib.figure.Figure at 0x7f3bbcfb0438>"
      ]
     },
     "metadata": {},
     "output_type": "display_data"
    },
    {
     "name": "stdout",
     "output_type": "stream",
     "text": [
      "Sample 1:\n",
      "il a vu un vieux camion jaune <PAD> <PAD> <PAD> <PAD> <PAD> <PAD> <PAD> <PAD> <PAD> <PAD> <PAD> <PAD> <PAD> <PAD>\n",
      "Il a vu un vieux camion jaune\n",
      "Sample 2:\n",
      "new jersey est parfois calme pendant l' automne et il est neigeux en avril <PAD> <PAD> <PAD> <PAD> <PAD> <PAD> <PAD>\n",
      "<PAD> <PAD> <PAD> <PAD> <PAD> <PAD> <PAD> <PAD> <PAD> <PAD> <PAD> <PAD> <PAD> <PAD> <PAD> <PAD> <PAD> <PAD> <PAD> <PAD> <PAD>\n",
      "new jersey est parfois calme pendant l' automne et il est neigeux en avril <PAD> <PAD> <PAD> <PAD> <PAD> <PAD> <PAD>\n"
     ]
    }
   ],
   "source": [
    "import numpy as np\n",
    "from keras.preprocessing.sequence import pad_sequences\n",
    "\n",
    "\n",
    "def final_predictions(x, y, x_tk, y_tk):\n",
    "    \"\"\"\n",
    "    Gets predictions using the final model\n",
    "    :param x: Preprocessed English data\n",
    "    :param y: Preprocessed French data\n",
    "    :param x_tk: English tokenizer\n",
    "    :param y_tk: French tokenizer\n",
    "    \"\"\"\n",
    "    model = model_final(x.shape,\n",
    "                        y.shape[1],\n",
    "                        len(x_tk.word_index),\n",
    "                        len(y_tk.word_index))\n",
    "    model.summary()\n",
    "\n",
    "    custom_model_hist = model.fit(x, y, batch_size=1024, epochs=10, validation_split=0.2)\n",
    "    visualize_train(custom_model_hist)\n",
    "    \n",
    "    ## DON'T EDIT ANYTHING BELOW THIS LINE\n",
    "    y_id_to_word = {value: key for key, value in y_tk.word_index.items()}\n",
    "    y_id_to_word[0] = '<PAD>'\n",
    "\n",
    "    sentence = 'he saw a old yellow truck'\n",
    "    sentence = [x_tk.word_index[word] for word in sentence.split()]\n",
    "    sentence = pad_sequences([sentence], maxlen=x.shape[-1], padding='post')\n",
    "    sentences = np.array([sentence[0], x[0]])\n",
    "    \n",
    "    predictions = model.predict(sentences, len(sentences))\n",
    "\n",
    "    print('Sample 1:')\n",
    "    print(' '.join([y_id_to_word[np.argmax(x)] for x in predictions[0]]))\n",
    "    print('Il a vu un vieux camion jaune')\n",
    "    print('Sample 2:')\n",
    "    print(' '.join([y_id_to_word[np.argmax(x)] for x in predictions[1]]))\n",
    "    print(' '.join([y_id_to_word[np.argmax(x)] for x in y[0]]))\n",
    "    \n",
    "    # Add the following line because the above line just prints a series of \"<PAD>\"-s\n",
    "    # ref: https://github.com/udacity/aind2-nlp-capstone/issues/3\n",
    "    print(' '.join([y_id_to_word[np.max(x)] for x in y[0]]))\n",
    "\n",
    "\n",
    "final_predictions(preproc_english_sentences, preproc_french_sentences, english_tokenizer, french_tokenizer)"
   ]
  },
  {
   "cell_type": "markdown",
   "metadata": {
    "deletable": true,
    "editable": true
   },
   "source": [
    "## Submission\n",
    "When you are ready to submit your project, do the following steps:\n",
    "1. Ensure you pass all points on the [rubric](https://review.udacity.com/#!/rubrics/1004/view).\n",
    "2. Submit the following in a zip file.\n",
    "  - `helper.py`\n",
    "  - `machine_translation.ipynb`\n",
    "  - `machine_translation.html`\n",
    "    - You can export the notebook by navigating to **File -> Download as -> HTML (.html)**."
   ]
  }
 ],
 "metadata": {
  "kernelspec": {
   "display_name": "Python aind2-npl-capstone",
   "language": "python",
   "name": "aind-nlp-capstone"
  },
  "language_info": {
   "codemirror_mode": {
    "name": "ipython",
    "version": 3
   },
   "file_extension": ".py",
   "mimetype": "text/x-python",
   "name": "python",
   "nbconvert_exporter": "python",
   "pygments_lexer": "ipython3",
   "version": "3.5.4"
  }
 },
 "nbformat": 4,
 "nbformat_minor": 1
}
